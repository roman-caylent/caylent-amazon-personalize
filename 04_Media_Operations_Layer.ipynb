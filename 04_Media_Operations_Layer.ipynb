{
 "cells": [
  {
   "cell_type": "markdown",
   "metadata": {},
   "source": [
    "\n",
    "# Getting Started\n",
    "\n",
    "ML Ops is gaining a lot of popularity. This example showcases a key piece you can use to construct your automation pipeline. As we can see in the following architecture diagram, you will be deploying an AWS Step Funciton Workflow containing AWS Lambda functions that call Amazon S3, Amazon Personalize, and Amazon SNS APIs.\n",
    "\n",
    "\n",
    "This package contains the source code of a Step Functions pipeline that is able to perform \n",
    "multiple actions within **Amazon Personalize**, including the following:\n",
    "\n",
    "- Dataset Group creation\n",
    "- Datasets creation and import\n",
    "- Solution creation\n",
    "- Solution version creation\n",
    "- Campaign creation\n",
    "\n",
    "**Note**: This notebook is an example of a [Custom Dataset Group and associated resources](https://docs.aws.amazon.com/personalize/latest/dg/custom-dataset-groups.html), please refer to the documentation for more information on [Domain Dataset Groups and Recommenders](https://docs.aws.amazon.com/personalize/latest/dg/domain-dataset-groups.html).\n",
    "\n",
    "Once the steps are completed, the step functions notifies the users of its completion through the\n",
    "use of an SNS topic.\n",
    "\n",
    "The below diagram describes the architecture of the solution:\n",
    "\n",
    "![Architecture Diagram](../../static/imgs/ml_ops_architecture.png)\n",
    "\n",
    "The below diagram showcases the StepFunction workflow definition:\n",
    "\n",
    "![stepfunction definition](../../static/imgs/step_functions.png)\n",
    "\n"
   ]
  },
  {
   "cell_type": "markdown",
   "metadata": {},
   "source": [
    "## Uploading data"
   ]
  },
  {
   "cell_type": "markdown",
   "metadata": {},
   "source": [
    "Let's get the bucket that our cloudformation deployed. We will be uploading our data to this bucket, plus the configuration file to trigger the automation"
   ]
  },
  {
   "cell_type": "code",
   "execution_count": 1,
   "metadata": {},
   "outputs": [
    {
     "name": "stdout",
     "output_type": "stream",
     "text": [
      "id-ml-ops-inputbucket-plrj14w7z7h3\n"
     ]
    }
   ],
   "source": [
    "bucket = !aws cloudformation describe-stacks --stack-name id-ml-ops --query \"Stacks[0].Outputs[?OutputKey=='InputBucketName'].OutputValue\" --output text\n",
    "bucket_name = bucket[0]\n",
    "print(bucket_name)"
   ]
  },
  {
   "cell_type": "markdown",
   "metadata": {},
   "source": [
    "Now that we have the bucket name, lets copy over our Media data so we can explore and upload to S3"
   ]
  },
  {
   "cell_type": "code",
   "execution_count": 2,
   "metadata": {},
   "outputs": [],
   "source": [
    "!cp -R /home/ec2-user/SageMaker/amazon-personalize-immersion-day/automation/ml_ops/domain/Media ./example"
   ]
  },
  {
   "cell_type": "code",
   "execution_count": 3,
   "metadata": {},
   "outputs": [
    {
     "name": "stderr",
     "output_type": "stream",
     "text": [
      "/home/ec2-user/anaconda3/envs/python3/lib/python3.6/site-packages/boto3/compat.py:88: PythonDeprecationWarning: Boto3 will no longer support Python 3.6 starting May 30, 2022. To continue receiving service updates, bug fixes, and security updates please upgrade to Python 3.7 or later. More information can be found here: https://aws.amazon.com/blogs/developer/python-support-policy-updates-for-aws-sdks-and-tools/\n",
      "  warnings.warn(warning, PythonDeprecationWarning)\n"
     ]
    }
   ],
   "source": [
    "# Import Dependencies\n",
    "\n",
    "import boto3\n",
    "import json\n",
    "import pandas as pd\n",
    "import numpy as np\n",
    "import seaborn as sns\n",
    "import matplotlib.pyplot as plt\n",
    "import time\n",
    "import requests\n",
    "import csv\n",
    "import sys\n",
    "import botocore\n",
    "import uuid\n",
    "from collections import defaultdict\n",
    "import random\n",
    "import numpy as np\n",
    "\n",
    "from packaging import version\n",
    "from botocore.exceptions import ClientError\n",
    "from pathlib import Path\n",
    "\n",
    "%matplotlib inline\n",
    "\n",
    "# Setup Clients\n",
    "\n",
    "personalize = boto3.client('personalize')\n",
    "personalize_runtime = boto3.client('personalize-runtime')\n",
    "personalize_events = boto3.client('personalize-events')\n",
    "\n",
    "# We will upload our training data in these files:\n",
    "raw_items_filename = \"example/data/Items/items.csv\"                # Do Not Change\n",
    "raw_users_filename = \"example/data/Users/users.csv\"                # Do Not Change\n",
    "raw_interactions_filename = \"example/data/Interactions/interactions.csv\"  # Do Not Change\n",
    "items_filename = \"items.csv\"                # Do Not Change\n",
    "users_filename = \"users.csv\"                # Do Not Change\n",
    "interactions_filename = \"interactions.csv\"  # Do Not Change\n"
   ]
  },
  {
   "cell_type": "code",
   "execution_count": 4,
   "metadata": {},
   "outputs": [
    {
     "data": {
      "text/html": [
       "<div>\n",
       "<style scoped>\n",
       "    .dataframe tbody tr th:only-of-type {\n",
       "        vertical-align: middle;\n",
       "    }\n",
       "\n",
       "    .dataframe tbody tr th {\n",
       "        vertical-align: top;\n",
       "    }\n",
       "\n",
       "    .dataframe thead th {\n",
       "        text-align: right;\n",
       "    }\n",
       "</style>\n",
       "<table border=\"1\" class=\"dataframe\">\n",
       "  <thead>\n",
       "    <tr style=\"text-align: right;\">\n",
       "      <th></th>\n",
       "      <th>USER_ID</th>\n",
       "      <th>ITEM_ID</th>\n",
       "      <th>TIMESTAMP</th>\n",
       "      <th>EVENT_TYPE</th>\n",
       "    </tr>\n",
       "  </thead>\n",
       "  <tbody>\n",
       "    <tr>\n",
       "      <th>0</th>\n",
       "      <td>429</td>\n",
       "      <td>222</td>\n",
       "      <td>828124615</td>\n",
       "      <td>watch</td>\n",
       "    </tr>\n",
       "    <tr>\n",
       "      <th>1</th>\n",
       "      <td>429</td>\n",
       "      <td>227</td>\n",
       "      <td>828124615</td>\n",
       "      <td>click</td>\n",
       "    </tr>\n",
       "    <tr>\n",
       "      <th>2</th>\n",
       "      <td>429</td>\n",
       "      <td>595</td>\n",
       "      <td>828124615</td>\n",
       "      <td>watch</td>\n",
       "    </tr>\n",
       "    <tr>\n",
       "      <th>3</th>\n",
       "      <td>429</td>\n",
       "      <td>592</td>\n",
       "      <td>828124615</td>\n",
       "      <td>watch</td>\n",
       "    </tr>\n",
       "    <tr>\n",
       "      <th>4</th>\n",
       "      <td>429</td>\n",
       "      <td>590</td>\n",
       "      <td>828124615</td>\n",
       "      <td>watch</td>\n",
       "    </tr>\n",
       "  </tbody>\n",
       "</table>\n",
       "</div>"
      ],
      "text/plain": [
       "   USER_ID  ITEM_ID  TIMESTAMP EVENT_TYPE\n",
       "0      429      222  828124615      watch\n",
       "1      429      227  828124615      click\n",
       "2      429      595  828124615      watch\n",
       "3      429      592  828124615      watch\n",
       "4      429      590  828124615      watch"
      ]
     },
     "execution_count": 4,
     "metadata": {},
     "output_type": "execute_result"
    }
   ],
   "source": [
    "interactions_df = pd.read_csv(raw_interactions_filename)\n",
    "interactions_df.head()"
   ]
  },
  {
   "cell_type": "markdown",
   "metadata": {},
   "source": [
    "There are 2 ways of uploading your datasets to S3:\n",
    "1. Using the boto3 SDK\n",
    "1. Using the CLI\n",
    "\n",
    "In this example we are going to use the CLI command"
   ]
  },
  {
   "cell_type": "code",
   "execution_count": 5,
   "metadata": {},
   "outputs": [],
   "source": [
    "!aws s3 sync ./example/data s3://$bucket_name"
   ]
  },
  {
   "cell_type": "markdown",
   "metadata": {},
   "source": [
    "## Starting the State Machine Execution"
   ]
  },
  {
   "cell_type": "markdown",
   "metadata": {},
   "source": [
    "In order to execute the MLOps pipeline we need to provide a parameters file that will tell our state machine which names and configurations we want in our Amazon Personalize deployment.\n",
    "\n",
    "Let's create a parameters.json file and define our Amazon Personalize resources we want our MLOps pipeline to deploy"
   ]
  },
  {
   "cell_type": "code",
   "execution_count": 6,
   "metadata": {},
   "outputs": [],
   "source": [
    "params = {\n",
    "    \"datasetGroup\": {\n",
    "        \"name\": \"AP-ML-Ops-1\"\n",
    "    },\n",
    "    \"datasets\": {\n",
    "        \"Interactions\": {\n",
    "            \"name\": \"InteractionsDataset\",\n",
    "            \"schema\": {\n",
    "                \"fields\": [\n",
    "                    {\n",
    "                        \"name\": \"USER_ID\",\n",
    "                        \"type\": \"string\"\n",
    "                    },\n",
    "                    {\n",
    "                        \"name\": \"ITEM_ID\",\n",
    "                        \"type\": \"string\"\n",
    "                    },\n",
    "                    {\n",
    "                        \"name\": \"EVENT_TYPE\",\n",
    "                        \"type\": \"string\"\n",
    "                    },\n",
    "                    {\n",
    "                        \"name\": \"TIMESTAMP\",\n",
    "                        \"type\": \"long\"\n",
    "                    }\n",
    "                ],\n",
    "                \"name\": \"Interactions\",\n",
    "                \"namespace\": \"com.amazonaws.personalize.schema\",\n",
    "                \"type\": \"record\",\n",
    "                \"version\": \"1.0\"\n",
    "            }\n",
    "        },\n",
    "        \"Items\": {\n",
    "            \"name\": \"ItemsDataset\",\n",
    "            \"schema\": {\n",
    "                \"fields\": [\n",
    "                    {\n",
    "                        \"name\": \"ITEM_ID\",\n",
    "                        \"type\": \"string\"\n",
    "                    },\n",
    "                    {\n",
    "                        \"categorical\": True,\n",
    "                        \"name\": \"GENRES\",\n",
    "                        \"type\": \"string\"\n",
    "                    },\n",
    "                    {\n",
    "                        \"name\": \"YEAR\",\n",
    "                        \"type\": \"int\"\n",
    "                    }\n",
    "                ],\n",
    "                \"name\": \"Items\",\n",
    "                \"namespace\": \"com.amazonaws.personalize.schema\",\n",
    "                \"type\": \"record\",\n",
    "                \"version\": \"1.0\"\n",
    "            }\n",
    "        }\n",
    "    },\n",
    "    \"solutions\": {\n",
    "        \"sims\": {\n",
    "            \"name\": \"na-simsCampaign-1\",\n",
    "            \"recipeArn\": \"arn:aws:personalize:::recipe/aws-sims\"\n",
    "        }\n",
    "    },\n",
    "    \"campaigns\": {\n",
    "        \"simsCampaign\": {\n",
    "            \"minProvisionedTPS\": 1,\n",
    "            \"name\": \"na-simsCampaign-1\"\n",
    "        }\n",
    "    },\n",
    "    \"eventTracker\": {\n",
    "        \"name\": \"AutomationImmersionDayEventTracker-1\"\n",
    "    }\n",
    "}"
   ]
  },
  {
   "cell_type": "code",
   "execution_count": 7,
   "metadata": {},
   "outputs": [
    {
     "name": "stdout",
     "output_type": "stream",
     "text": [
      "{\n",
      "    \"campaigns\": {\n",
      "        \"simsCampaign\": {\n",
      "            \"minProvisionedTPS\": 1,\n",
      "            \"name\": \"na-simsCampaign-1\"\n",
      "        }\n",
      "    },\n",
      "    \"datasetGroup\": {\n",
      "        \"name\": \"AP-ML-Ops-1\"\n",
      "    },\n",
      "    \"datasets\": {\n",
      "        \"Interactions\": {\n",
      "            \"name\": \"InteractionsDataset\",\n",
      "            \"schema\": {\n",
      "                \"fields\": [\n",
      "                    {\n",
      "                        \"name\": \"USER_ID\",\n",
      "                        \"type\": \"string\"\n",
      "                    },\n",
      "                    {\n",
      "                        \"name\": \"ITEM_ID\",\n",
      "                        \"type\": \"string\"\n",
      "                    },\n",
      "                    {\n",
      "                        \"name\": \"EVENT_TYPE\",\n",
      "                        \"type\": \"string\"\n",
      "                    },\n",
      "                    {\n",
      "                        \"name\": \"TIMESTAMP\",\n",
      "                        \"type\": \"long\"\n",
      "                    }\n",
      "                ],\n",
      "                \"name\": \"Interactions\",\n",
      "                \"namespace\": \"com.amazonaws.personalize.schema\",\n",
      "                \"type\": \"record\",\n",
      "                \"version\": \"1.0\"\n",
      "            }\n",
      "        },\n",
      "        \"Items\": {\n",
      "            \"name\": \"ItemsDataset\",\n",
      "            \"schema\": {\n",
      "                \"fields\": [\n",
      "                    {\n",
      "                        \"name\": \"ITEM_ID\",\n",
      "                        \"type\": \"string\"\n",
      "                    },\n",
      "                    {\n",
      "                        \"categorical\": true,\n",
      "                        \"name\": \"GENRES\",\n",
      "                        \"type\": \"string\"\n",
      "                    },\n",
      "                    {\n",
      "                        \"name\": \"YEAR\",\n",
      "                        \"type\": \"int\"\n",
      "                    }\n",
      "                ],\n",
      "                \"name\": \"Items\",\n",
      "                \"namespace\": \"com.amazonaws.personalize.schema\",\n",
      "                \"type\": \"record\",\n",
      "                \"version\": \"1.0\"\n",
      "            }\n",
      "        }\n",
      "    },\n",
      "    \"eventTracker\": {\n",
      "        \"name\": \"AutomationImmersionDayEventTracker-1\"\n",
      "    },\n",
      "    \"solutions\": {\n",
      "        \"sims\": {\n",
      "            \"name\": \"na-simsCampaign-1\",\n",
      "            \"recipeArn\": \"arn:aws:personalize:::recipe/aws-sims\"\n",
      "        }\n",
      "    }\n",
      "}\n"
     ]
    }
   ],
   "source": [
    "print(json.dumps(params, indent=4, sort_keys=True))"
   ]
  },
  {
   "cell_type": "markdown",
   "metadata": {},
   "source": [
    "This parameters file will create a dataset group containing a campaign exposing a solution trained with the user-personalization recipe"
   ]
  },
  {
   "cell_type": "markdown",
   "metadata": {},
   "source": [
    "## Updating and uploading your parameters file to S3"
   ]
  },
  {
   "cell_type": "markdown",
   "metadata": {},
   "source": [
    "First let's write the file locally"
   ]
  },
  {
   "cell_type": "code",
   "execution_count": 8,
   "metadata": {},
   "outputs": [],
   "source": [
    "with open('example/params.json', 'w') as outfile:\n",
    "    json.dump(params, outfile)"
   ]
  },
  {
   "cell_type": "markdown",
   "metadata": {},
   "source": [
    "Now we can upload this file to S3, we are going to be using the CLI to do so"
   ]
  },
  {
   "cell_type": "code",
   "execution_count": 9,
   "metadata": {},
   "outputs": [
    {
     "name": "stdout",
     "output_type": "stream",
     "text": [
      "Completed 948 Bytes/948 Bytes (13.1 KiB/s) with 1 file(s) remaining\r",
      "upload: example/params.json to s3://id-ml-ops-inputbucket-plrj14w7z7h3/params.json\r\n"
     ]
    }
   ],
   "source": [
    "!aws s3 cp ./example/params.json s3://$bucket_name"
   ]
  },
  {
   "cell_type": "markdown",
   "metadata": {},
   "source": [
    "## Validating your MLOps pipeline\n",
    "\n",
    "Lets take a look at the stepfunctions execution."
   ]
  },
  {
   "cell_type": "code",
   "execution_count": 10,
   "metadata": {},
   "outputs": [
    {
     "name": "stderr",
     "output_type": "stream",
     "text": [
      "/home/ec2-user/anaconda3/envs/python3/lib/python3.6/site-packages/boto3/compat.py:88: PythonDeprecationWarning: Boto3 will no longer support Python 3.6 starting May 30, 2022. To continue receiving service updates, bug fixes, and security updates please upgrade to Python 3.7 or later. More information can be found here: https://aws.amazon.com/blogs/developer/python-support-policy-updates-for-aws-sdks-and-tools/\n",
      "  warnings.warn(warning, PythonDeprecationWarning)\n"
     ]
    },
    {
     "data": {
      "text/plain": [
       "'arn:aws:states:us-east-1:131578276461:stateMachine:DeployStateMachine-wD4ZoglPGqeE'"
      ]
     },
     "execution_count": 10,
     "metadata": {},
     "output_type": "execute_result"
    }
   ],
   "source": [
    "client = boto3.client('stepfunctions')\n",
    "stateMachineArn = !aws cloudformation describe-stacks --stack-name id-ml-ops --query \"Stacks[0].Outputs[?OutputKey=='DeployStateMachineArn'].OutputValue\" --output text\n",
    "stateMachineArn= stateMachineArn[0]\n",
    "stateMachineArn"
   ]
  },
  {
   "cell_type": "code",
   "execution_count": 11,
   "metadata": {},
   "outputs": [
    {
     "name": "stdout",
     "output_type": "stream",
     "text": [
      "{\n",
      "    \"ResponseMetadata\": {\n",
      "        \"HTTPHeaders\": {\n",
      "            \"content-length\": \"17\",\n",
      "            \"content-type\": \"application/x-amz-json-1.0\",\n",
      "            \"date\": \"Wed, 09 Nov 2022 21:58:28 GMT\",\n",
      "            \"x-amzn-requestid\": \"56ce6e0d-6667-4ac2-b336-d597ecddb25d\"\n",
      "        },\n",
      "        \"HTTPStatusCode\": 200,\n",
      "        \"RequestId\": \"56ce6e0d-6667-4ac2-b336-d597ecddb25d\",\n",
      "        \"RetryAttempts\": 0\n",
      "    },\n",
      "    \"executions\": []\n",
      "}\n"
     ]
    }
   ],
   "source": [
    "executions_response = client.list_executions(\n",
    "    stateMachineArn=stateMachineArn,\n",
    "    statusFilter='RUNNING',\n",
    "    maxResults=2\n",
    ")\n",
    "print(json.dumps(executions_response, indent=4, sort_keys=True, default=str))"
   ]
  },
  {
   "cell_type": "markdown",
   "metadata": {},
   "source": [
    "This step will take at least 30 minutes to complete. \n",
    "\n",
    "You can check the status of the state machine execution in the console by:\n",
    "\n",
    "1. Navigate to the [Step Functions console](https://console.aws.amazon.com/states/home). \n",
    "\n",
    "\n",
    "2. Click on the number **1** under the **Running** column\n",
    "\n",
    "![stepfunction definition](../../static/imgs/step_functions_console.png)\n",
    "\n",
    "3. Click on the **current execution** that is named after the date\n",
    "\n",
    "![stepfunction definition](../../static/imgs/step_functions_console_execution.png)\n",
    "\n",
    "4. Here you can see which steps are currently executing highlighted in blue\n",
    "\n",
    "![stepfunction definition](../../static/imgs/step_functions_in_progress.png)\n",
    "\n",
    "\n",
    "This example step function definition will automatically retry each step by querying the describe service APIs with a backoff rate of 1.5, in each retry a new lambda function is executed looking for a success or a failure of a given step.\n",
    "\n",
    "These step functions will take around 20 minutes to finish executing, which includes importing the datasets, trainign a SIMS solution, and deploying a campaing. **Note:** we are only training a SIMS model due to time constrains.\n"
   ]
  },
  {
   "cell_type": "code",
   "execution_count": 12,
   "metadata": {},
   "outputs": [],
   "source": [
    "while ( len(client.list_executions(\n",
    "    stateMachineArn=stateMachineArn,\n",
    "    statusFilter='RUNNING',\n",
    "    maxResults=2\n",
    "    )['executions']) > 0):\n",
    "    print ('State Machine is running...')\n",
    "    time.sleep(60)\n"
   ]
  },
  {
   "cell_type": "markdown",
   "metadata": {},
   "source": [
    "### Let's look at the succeeded execution\n",
    "\n",
    "Once your step functions are done executing, you can list the executions and describe them"
   ]
  },
  {
   "cell_type": "code",
   "execution_count": 13,
   "metadata": {},
   "outputs": [
    {
     "name": "stdout",
     "output_type": "stream",
     "text": [
      "{\n",
      "    \"ResponseMetadata\": {\n",
      "        \"HTTPHeaders\": {\n",
      "            \"content-length\": \"1073\",\n",
      "            \"content-type\": \"application/x-amz-json-1.0\",\n",
      "            \"date\": \"Wed, 09 Nov 2022 21:58:36 GMT\",\n",
      "            \"x-amzn-requestid\": \"e88b7b7b-0738-4b2f-b7e2-c25ebf8cf6f0\"\n",
      "        },\n",
      "        \"HTTPStatusCode\": 200,\n",
      "        \"RequestId\": \"e88b7b7b-0738-4b2f-b7e2-c25ebf8cf6f0\",\n",
      "        \"RetryAttempts\": 0\n",
      "    },\n",
      "    \"executions\": [\n",
      "        {\n",
      "            \"executionArn\": \"arn:aws:states:us-east-1:131578276461:execution:DeployStateMachine-wD4ZoglPGqeE:2022_11_09_21_57_58\",\n",
      "            \"name\": \"2022_11_09_21_57_58\",\n",
      "            \"startDate\": \"2022-11-09 21:57:58.855000+00:00\",\n",
      "            \"stateMachineArn\": \"arn:aws:states:us-east-1:131578276461:stateMachine:DeployStateMachine-wD4ZoglPGqeE\",\n",
      "            \"status\": \"SUCCEEDED\",\n",
      "            \"stopDate\": \"2022-11-09 21:58:00.679000+00:00\"\n",
      "        },\n",
      "        {\n",
      "            \"executionArn\": \"arn:aws:states:us-east-1:131578276461:execution:DeployStateMachine-wD4ZoglPGqeE:2022_11_09_21_52_14\",\n",
      "            \"name\": \"2022_11_09_21_52_14\",\n",
      "            \"startDate\": \"2022-11-09 21:52:16.127000+00:00\",\n",
      "            \"stateMachineArn\": \"arn:aws:states:us-east-1:131578276461:stateMachine:DeployStateMachine-wD4ZoglPGqeE\",\n",
      "            \"status\": \"SUCCEEDED\",\n",
      "            \"stopDate\": \"2022-11-09 21:53:44.494000+00:00\"\n",
      "        }\n",
      "    ],\n",
      "    \"nextToken\": \"AAAAKgAAAAIAAAAAAAAAATirPrZXsJuVGCQVlc2DnayOT1fgI5hQNreZaf6rnv27vLOMb7UYU6H5lZD2vfrclW3J1XnQHnEZ8rsFEsAsK3QaA2enYyGKdiYM94NM7Kfw1oz2HQaUtSGP5sZ7J2Ow8i65HX6J8r8NhoTLCffL2EwgsD+5Ohk0z5JcBTF0iv48VREeHqTluj38a3oVKnfLfywt5gT8bRXrcDrItrgsKLO5uiU4aw1LIbFgREa+J6f+n7rzj7ecr8lZK/nai2ldAOZL1db1O9xuVeJu7fTDOUqJiHxnSa2/PS8LmEwNlttR1HcG/WscM//lJHRTQ0zs1KyKpyEhgSti4KsObhnmqlRDtJ2RMm0MDeBCnjFOwwwk\"\n",
      "}\n"
     ]
    }
   ],
   "source": [
    "executions_response = client.list_executions(\n",
    "    stateMachineArn=stateMachineArn,\n",
    "    statusFilter='SUCCEEDED',\n",
    "    maxResults=2\n",
    ")\n",
    "print(json.dumps(executions_response, indent=4, sort_keys=True, default=str))"
   ]
  },
  {
   "cell_type": "markdown",
   "metadata": {},
   "source": [
    "You can validate your Amazon Personalize deployment by navigating to the [Service Console](https://console.aws.amazon.com/personalize/home) and looking for the dataset group called **AP-ML-Ops-1**"
   ]
  },
  {
   "cell_type": "markdown",
   "metadata": {},
   "source": [
    "### Let's look at the input that was delivered to the State Machine"
   ]
  },
  {
   "cell_type": "markdown",
   "metadata": {},
   "source": [
    "As we can see below, this is the input from our Parameters file we uploaded to S3. This input json was then passed to lambda functions in the state machine to utilize across Amazon Personalize APIs"
   ]
  },
  {
   "cell_type": "code",
   "execution_count": 14,
   "metadata": {},
   "outputs": [
    {
     "name": "stdout",
     "output_type": "stream",
     "text": [
      "{\n",
      "    \"bucket\": \"id-ml-ops-inputbucket-plrj14w7z7h3\",\n",
      "    \"currentDate\": \"2022_11_09_21_57_58\",\n",
      "    \"params\": {\n",
      "        \"campaigns\": {\n",
      "            \"simsCampaign\": {\n",
      "                \"minProvisionedTPS\": 1,\n",
      "                \"name\": \"na-simsCampaign-1\"\n",
      "            }\n",
      "        },\n",
      "        \"datasetGroup\": {\n",
      "            \"name\": \"AP-ML-Ops-1\"\n",
      "        },\n",
      "        \"datasets\": {\n",
      "            \"Interactions\": {\n",
      "                \"name\": \"InteractionsDataset\",\n",
      "                \"schema\": {\n",
      "                    \"fields\": [\n",
      "                        {\n",
      "                            \"name\": \"USER_ID\",\n",
      "                            \"type\": \"string\"\n",
      "                        },\n",
      "                        {\n",
      "                            \"name\": \"ITEM_ID\",\n",
      "                            \"type\": \"string\"\n",
      "                        },\n",
      "                        {\n",
      "                            \"name\": \"EVENT_TYPE\",\n",
      "                            \"type\": \"string\"\n",
      "                        },\n",
      "                        {\n",
      "                            \"name\": \"TIMESTAMP\",\n",
      "                            \"type\": \"long\"\n",
      "                        }\n",
      "                    ],\n",
      "                    \"name\": \"Interactions\",\n",
      "                    \"namespace\": \"com.amazonaws.personalize.schema\",\n",
      "                    \"type\": \"record\",\n",
      "                    \"version\": \"1.0\"\n",
      "                }\n",
      "            },\n",
      "            \"Items\": {\n",
      "                \"name\": \"ItemsDataset\",\n",
      "                \"schema\": {\n",
      "                    \"fields\": [\n",
      "                        {\n",
      "                            \"name\": \"ITEM_ID\",\n",
      "                            \"type\": \"string\"\n",
      "                        },\n",
      "                        {\n",
      "                            \"categorical\": true,\n",
      "                            \"name\": \"GENRES\",\n",
      "                            \"type\": \"string\"\n",
      "                        },\n",
      "                        {\n",
      "                            \"name\": \"YEAR\",\n",
      "                            \"type\": \"int\"\n",
      "                        }\n",
      "                    ],\n",
      "                    \"name\": \"Items\",\n",
      "                    \"namespace\": \"com.amazonaws.personalize.schema\",\n",
      "                    \"type\": \"record\",\n",
      "                    \"version\": \"1.0\"\n",
      "                }\n",
      "            }\n",
      "        },\n",
      "        \"eventTracker\": {\n",
      "            \"name\": \"AutomationImmersionDayEventTracker-1\"\n",
      "        },\n",
      "        \"solutions\": {\n",
      "            \"sims\": {\n",
      "                \"name\": \"na-simsCampaign-1\",\n",
      "                \"recipeArn\": \"arn:aws:personalize:::recipe/aws-sims\"\n",
      "            }\n",
      "        }\n",
      "    }\n",
      "}\n"
     ]
    }
   ],
   "source": [
    "describe_executions_response = client.describe_execution(\n",
    "    executionArn=executions_response['executions'][0]['executionArn']\n",
    ")\n",
    "print(json.dumps(json.loads(describe_executions_response['input']), indent=4, sort_keys=True, default=str))"
   ]
  },
  {
   "cell_type": "markdown",
   "metadata": {},
   "source": [
    "### Let's look at the time stamps"
   ]
  },
  {
   "cell_type": "markdown",
   "metadata": {},
   "source": [
    "As we can see below, this is the input from our Parameters file we uploaded to S3. This input json was then passed to lambda functions in the state machine to utilize across Amazon Personalize APIs"
   ]
  },
  {
   "cell_type": "code",
   "execution_count": 15,
   "metadata": {},
   "outputs": [
    {
     "name": "stdout",
     "output_type": "stream",
     "text": [
      "Start Date:\n",
      "\"2022-11-09 21:57:58.855000+00:00\"\n",
      "Stop Date:\n",
      "\"2022-11-09 21:58:00.679000+00:00\"\n",
      "Elapsed Time: \n",
      "0:00:01.824000\n"
     ]
    }
   ],
   "source": [
    "print(\"Start Date:\")\n",
    "print(json.dumps(describe_executions_response['startDate'], indent=4, sort_keys=True, default=str))\n",
    "print(\"Stop Date:\")\n",
    "print(json.dumps(describe_executions_response['stopDate'], indent=4, sort_keys=True, default=str))\n",
    "print(\"Elapsed Time: \")\n",
    "elapsed_time = describe_executions_response['stopDate'] - describe_executions_response['startDate']\n",
    "print(elapsed_time)"
   ]
  },
  {
   "cell_type": "markdown",
   "metadata": {},
   "source": [
    "As we see above, the whole process does take a significant ammount of time, but now all the steps are fully automated!\n",
    "\n",
    "If you are interested in deploying this example in your environment, visit our [Github Samples Page](https://github.com/aws-samples/amazon-personalize-samples/tree/master/next_steps/operations/ml_ops) to download the latest codebase."
   ]
  },
  {
   "cell_type": "code",
   "execution_count": null,
   "metadata": {},
   "outputs": [],
   "source": []
  }
 ],
 "metadata": {
  "kernelspec": {
   "display_name": "conda_python3",
   "language": "python",
   "name": "conda_python3"
  },
  "language_info": {
   "codemirror_mode": {
    "name": "ipython",
    "version": 3
   },
   "file_extension": ".py",
   "mimetype": "text/x-python",
   "name": "python",
   "nbconvert_exporter": "python",
   "pygments_lexer": "ipython3",
   "version": "3.6.13"
  }
 },
 "nbformat": 4,
 "nbformat_minor": 4
}
